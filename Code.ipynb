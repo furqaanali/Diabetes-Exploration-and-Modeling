{
 "cells": [
  {
   "cell_type": "code",
   "execution_count": null,
   "metadata": {},
   "outputs": [],
   "source": [
    "# Load libraries\n",
    "import pandas as pd\n",
    "import matplotlib.pyplot as plt \n",
    "import seaborn as sns\n",
    "import numpy as np\n",
    "from scipy.stats import ttest_ind\n",
    "\n",
    "from sklearn.preprocessing import StandardScaler\n",
    "from scipy.cluster.hierarchy import linkage, fcluster\n",
    "from sklearn.cluster import KMeans, DBSCAN\n",
    "from sklearn import metrics"
   ]
  },
  {
   "cell_type": "code",
   "execution_count": null,
   "metadata": {},
   "outputs": [],
   "source": [
    "# Load dataset\n",
    "diabetes_data_binary = pd.read_csv('diabetes_data_upload.csv') \n",
    "diabetes_data_floats = pd.read_csv('diabetes-dataset.csv')"
   ]
  },
  {
   "cell_type": "code",
   "execution_count": null,
   "metadata": {},
   "outputs": [],
   "source": [
    "# Display original binary dataset\n",
    "print(diabetes_data_binary.info())\n",
    "diabetes_data_binary.head(10)"
   ]
  },
  {
   "cell_type": "code",
   "execution_count": null,
   "metadata": {},
   "outputs": [],
   "source": []
  },
  {
   "cell_type": "code",
   "execution_count": null,
   "metadata": {},
   "outputs": [],
   "source": [
    "# Map string values to int for the binary dataset\n",
    "\n",
    "# Convert Yes/No values to 1/0 values\n",
    "diabetes_data_binary = diabetes_data_binary.applymap(lambda x: 1 if x=='Yes' else x)\n",
    "diabetes_data_binary = diabetes_data_binary.applymap(lambda x: 0 if x=='No' else x)\n",
    "\n",
    "# Convert Pos/Neg values to 1/0 values\n",
    "diabetes_data_binary = diabetes_data_binary.applymap(lambda x: 1 if x=='Positive' else x)\n",
    "diabetes_data_binary = diabetes_data_binary.applymap(lambda x: 0 if x=='Negative' else x)\n",
    "\n",
    "# Rename Gender column to Male\n",
    "diabetes_data_binary = diabetes_data_binary.rename(columns={'Gender': 'Male'})\n",
    "\n",
    "# Convert Male/Female values to 1/0 values\n",
    "diabetes_data_binary['Male'] = diabetes_data_binary['Male'].map({'Male': 1, 'Female': 0})"
   ]
  },
  {
   "cell_type": "code",
   "execution_count": null,
   "metadata": {},
   "outputs": [],
   "source": []
  },
  {
   "cell_type": "code",
   "execution_count": null,
   "metadata": {},
   "outputs": [],
   "source": [
    "# Display binary dataset after data preparation\n",
    "print(diabetes_data_binary.info())\n",
    "diabetes_data_binary"
   ]
  },
  {
   "cell_type": "code",
   "execution_count": null,
   "metadata": {},
   "outputs": [],
   "source": []
  },
  {
   "cell_type": "code",
   "execution_count": null,
   "metadata": {},
   "outputs": [],
   "source": []
  },
  {
   "cell_type": "code",
   "execution_count": null,
   "metadata": {},
   "outputs": [],
   "source": [
    "# Display original integer/float dataset\n",
    "print(diabetes_data_floats.info())\n",
    "diabetes_data_floats.head(10)"
   ]
  },
  {
   "cell_type": "code",
   "execution_count": null,
   "metadata": {},
   "outputs": [],
   "source": []
  },
  {
   "cell_type": "code",
   "execution_count": null,
   "metadata": {},
   "outputs": [],
   "source": [
    "# Count missing values for integers/floats dataset"
   ]
  },
  {
   "cell_type": "code",
   "execution_count": null,
   "metadata": {},
   "outputs": [],
   "source": [
    "diabetes_data_floats[diabetes_data_floats['Glucose']==0].shape[0]"
   ]
  },
  {
   "cell_type": "code",
   "execution_count": null,
   "metadata": {},
   "outputs": [],
   "source": [
    "diabetes_data_floats[diabetes_data_floats['BloodPressure']==0].shape[0]"
   ]
  },
  {
   "cell_type": "code",
   "execution_count": null,
   "metadata": {},
   "outputs": [],
   "source": [
    "diabetes_data_floats[diabetes_data_floats['SkinThickness']==0].shape[0]"
   ]
  },
  {
   "cell_type": "code",
   "execution_count": null,
   "metadata": {},
   "outputs": [],
   "source": [
    "diabetes_data_floats[diabetes_data_floats['Insulin']==0].shape[0]"
   ]
  },
  {
   "cell_type": "code",
   "execution_count": null,
   "metadata": {},
   "outputs": [],
   "source": [
    "diabetes_data_floats[diabetes_data_floats['BMI']==0].size"
   ]
  },
  {
   "cell_type": "code",
   "execution_count": null,
   "metadata": {},
   "outputs": [],
   "source": []
  },
  {
   "cell_type": "code",
   "execution_count": null,
   "metadata": {},
   "outputs": [],
   "source": [
    "# Remove all observations with missing values\n",
    "diabetes_data_floats = diabetes_data_floats[diabetes_data_floats['Glucose']!=0]\n",
    "diabetes_data_floats = diabetes_data_floats[diabetes_data_floats['BloodPressure']!=0]\n",
    "diabetes_data_floats = diabetes_data_floats[diabetes_data_floats['SkinThickness']!=0]\n",
    "diabetes_data_floats = diabetes_data_floats[diabetes_data_floats['Insulin']!=0]\n",
    "diabetes_data_floats = diabetes_data_floats[diabetes_data_floats['BMI']!=0]"
   ]
  },
  {
   "cell_type": "code",
   "execution_count": null,
   "metadata": {},
   "outputs": [],
   "source": []
  },
  {
   "cell_type": "code",
   "execution_count": null,
   "metadata": {},
   "outputs": [],
   "source": [
    "# Display integer/float dataset after data cleaning\n",
    "print(diabetes_data_floats.info())\n",
    "diabetes_data_floats.head(10)"
   ]
  },
  {
   "cell_type": "code",
   "execution_count": null,
   "metadata": {},
   "outputs": [],
   "source": []
  },
  {
   "cell_type": "code",
   "execution_count": null,
   "metadata": {},
   "outputs": [],
   "source": []
  },
  {
   "cell_type": "code",
   "execution_count": null,
   "metadata": {},
   "outputs": [],
   "source": [
    "# Computing averages for diabetic and non-diabetic patients using integer/floats dataset"
   ]
  },
  {
   "cell_type": "code",
   "execution_count": null,
   "metadata": {},
   "outputs": [],
   "source": [
    "print(\"Pregnancies\")\n",
    "print(\"Non-Diabetic Mean:\", diabetes_data_floats[diabetes_data_floats['Outcome']==0]['Pregnancies'].mean())\n",
    "print(\"Diabetic Mean    :\", diabetes_data_floats[diabetes_data_floats['Outcome']==1]['Pregnancies'].mean())\n",
    "print()\n",
    "print(\"Non-Diabetic std :\", diabetes_data_floats[diabetes_data_floats['Outcome']==0]['Pregnancies'].std())\n",
    "print(\"Diabetic std     :\", diabetes_data_floats[diabetes_data_floats['Outcome']==1]['Pregnancies'].std())\n",
    "print()\n",
    "ttest_ind(diabetes_data_floats[diabetes_data_floats['Outcome']==1]['Pregnancies'], diabetes_data_floats[diabetes_data_floats['Outcome']==0]['Pregnancies'], equal_var=False)"
   ]
  },
  {
   "cell_type": "code",
   "execution_count": null,
   "metadata": {},
   "outputs": [],
   "source": []
  },
  {
   "cell_type": "code",
   "execution_count": null,
   "metadata": {},
   "outputs": [],
   "source": [
    "print(\"Glucose\")\n",
    "print(\"Non-Diabetic Mean:\", diabetes_data_floats[diabetes_data_floats['Outcome']==0]['Glucose'].mean())\n",
    "print(\"Diabetic Mean    :\", diabetes_data_floats[diabetes_data_floats['Outcome']==1]['Glucose'].mean())\n",
    "print()\n",
    "print(\"Non-Diabetic std :\", diabetes_data_floats[diabetes_data_floats['Outcome']==0]['Glucose'].std())\n",
    "print(\"Diabetic std     :\", diabetes_data_floats[diabetes_data_floats['Outcome']==1]['Glucose'].std())\n",
    "print()\n",
    "ttest_ind(diabetes_data_floats[diabetes_data_floats['Outcome']==1]['Glucose'], diabetes_data_floats[diabetes_data_floats['Outcome']==0]['Glucose'], equal_var=False)"
   ]
  },
  {
   "cell_type": "code",
   "execution_count": null,
   "metadata": {},
   "outputs": [],
   "source": []
  },
  {
   "cell_type": "code",
   "execution_count": null,
   "metadata": {},
   "outputs": [],
   "source": [
    "print(\"BloodPressure \")\n",
    "print(\"Non-Diabetic Mean:\", diabetes_data_floats[diabetes_data_floats['Outcome']==0]['BloodPressure'].mean())\n",
    "print(\"Diabetic Mean    :\", diabetes_data_floats[diabetes_data_floats['Outcome']==1]['BloodPressure'].mean())\n",
    "print()\n",
    "print(\"Non-Diabetic std :\", diabetes_data_floats[diabetes_data_floats['Outcome']==0]['BloodPressure'].std())\n",
    "print(\"Diabetic std     :\", diabetes_data_floats[diabetes_data_floats['Outcome']==1]['BloodPressure'].std())\n",
    "print()\n",
    "ttest_ind(diabetes_data_floats[diabetes_data_floats['Outcome']==1]['BloodPressure'], diabetes_data_floats[diabetes_data_floats['Outcome']==0]['BloodPressure'], equal_var=False)"
   ]
  },
  {
   "cell_type": "code",
   "execution_count": null,
   "metadata": {},
   "outputs": [],
   "source": []
  },
  {
   "cell_type": "code",
   "execution_count": null,
   "metadata": {},
   "outputs": [],
   "source": [
    "print(\"SkinThickness \")\n",
    "print(\"Non-Diabetic Mean:\", diabetes_data_floats[diabetes_data_floats['Outcome']==0]['SkinThickness'].mean())\n",
    "print(\"Diabetic Mean    :\", diabetes_data_floats[diabetes_data_floats['Outcome']==1]['SkinThickness'].mean())\n",
    "print()\n",
    "print(\"Non-Diabetic std :\", diabetes_data_floats[diabetes_data_floats['Outcome']==0]['SkinThickness'].std())\n",
    "print(\"Diabetic std     :\", diabetes_data_floats[diabetes_data_floats['Outcome']==1]['SkinThickness'].std())\n",
    "print()\n",
    "ttest_ind(diabetes_data_floats[diabetes_data_floats['Outcome']==1]['SkinThickness'], diabetes_data_floats[diabetes_data_floats['Outcome']==0]['SkinThickness'], equal_var=False)"
   ]
  },
  {
   "cell_type": "code",
   "execution_count": null,
   "metadata": {},
   "outputs": [],
   "source": []
  },
  {
   "cell_type": "code",
   "execution_count": null,
   "metadata": {},
   "outputs": [],
   "source": [
    "print(\"Insulin \")\n",
    "print(\"Non-Diabetic Mean:\", diabetes_data_floats[diabetes_data_floats['Outcome']==0]['Insulin'].mean())\n",
    "print(\"Diabetic Mean    :\", diabetes_data_floats[diabetes_data_floats['Outcome']==1]['Insulin'].mean())\n",
    "print()\n",
    "print(\"Non-Diabetic std :\", diabetes_data_floats[diabetes_data_floats['Outcome']==0]['Insulin'].std())\n",
    "print(\"Diabetic std     :\", diabetes_data_floats[diabetes_data_floats['Outcome']==1]['Insulin'].std())\n",
    "print()\n",
    "ttest_ind(diabetes_data_floats[diabetes_data_floats['Outcome']==1]['Insulin'], diabetes_data_floats[diabetes_data_floats['Outcome']==0]['Insulin'], equal_var=False)"
   ]
  },
  {
   "cell_type": "code",
   "execution_count": null,
   "metadata": {},
   "outputs": [],
   "source": []
  },
  {
   "cell_type": "code",
   "execution_count": null,
   "metadata": {},
   "outputs": [],
   "source": [
    "print(\"BMI \")\n",
    "print(\"Non-Diabetic Mean:\", diabetes_data_floats[diabetes_data_floats['Outcome']==0]['BMI'].mean())\n",
    "print(\"Diabetic Mean    :\", diabetes_data_floats[diabetes_data_floats['Outcome']==1]['BMI'].mean())\n",
    "print()\n",
    "print(\"Non-Diabetic std :\", diabetes_data_floats[diabetes_data_floats['Outcome']==0]['BMI'].std())\n",
    "print(\"Diabetic std     :\", diabetes_data_floats[diabetes_data_floats['Outcome']==1]['BMI'].std())\n",
    "print()\n",
    "ttest_ind(diabetes_data_floats[diabetes_data_floats['Outcome']==1]['BMI'], diabetes_data_floats[diabetes_data_floats['Outcome']==0]['BMI'], equal_var=False)"
   ]
  },
  {
   "cell_type": "code",
   "execution_count": null,
   "metadata": {},
   "outputs": [],
   "source": []
  },
  {
   "cell_type": "code",
   "execution_count": null,
   "metadata": {},
   "outputs": [],
   "source": [
    "print(\"Diabetes Pedigree Function\")\n",
    "print(\"Non-Diabetic Mean:\", diabetes_data_floats[diabetes_data_floats['Outcome']==0]['DiabetesPedigreeFunction'].mean())\n",
    "print(\"Diabetic Mean    :\", diabetes_data_floats[diabetes_data_floats['Outcome']==1]['DiabetesPedigreeFunction'].mean())\n",
    "print()\n",
    "print(\"Non-Diabetic std :\", diabetes_data_floats[diabetes_data_floats['Outcome']==0]['DiabetesPedigreeFunction'].std())\n",
    "print(\"Diabetic std     :\", diabetes_data_floats[diabetes_data_floats['Outcome']==1]['DiabetesPedigreeFunction'].std())\n",
    "print()\n",
    "ttest_ind(diabetes_data_floats[diabetes_data_floats['Outcome']==1]['DiabetesPedigreeFunction'], diabetes_data_floats[diabetes_data_floats['Outcome']==0]['DiabetesPedigreeFunction'], equal_var=False)"
   ]
  },
  {
   "cell_type": "code",
   "execution_count": null,
   "metadata": {},
   "outputs": [],
   "source": []
  },
  {
   "cell_type": "code",
   "execution_count": null,
   "metadata": {},
   "outputs": [],
   "source": []
  },
  {
   "cell_type": "code",
   "execution_count": null,
   "metadata": {},
   "outputs": [],
   "source": [
    "# Visualize feature statistics for non-diabetic and diabetic patients using integer/floats dataset"
   ]
  },
  {
   "cell_type": "code",
   "execution_count": null,
   "metadata": {},
   "outputs": [],
   "source": [
    "sns.boxplot(x='Outcome',y='Pregnancies',data=diabetes_data_floats)"
   ]
  },
  {
   "cell_type": "code",
   "execution_count": null,
   "metadata": {},
   "outputs": [],
   "source": [
    "sns.boxplot(x='Outcome',y='Glucose',data=diabetes_data_floats)"
   ]
  },
  {
   "cell_type": "code",
   "execution_count": null,
   "metadata": {},
   "outputs": [],
   "source": [
    "sns.boxplot(x='Outcome',y='BloodPressure',data=diabetes_data_floats)"
   ]
  },
  {
   "cell_type": "code",
   "execution_count": null,
   "metadata": {},
   "outputs": [],
   "source": [
    "sns.boxplot(x='Outcome',y='SkinThickness',data=diabetes_data_floats)"
   ]
  },
  {
   "cell_type": "code",
   "execution_count": null,
   "metadata": {},
   "outputs": [],
   "source": [
    "sns.boxplot(x='Outcome',y='Insulin',data=diabetes_data_floats)"
   ]
  },
  {
   "cell_type": "code",
   "execution_count": null,
   "metadata": {},
   "outputs": [],
   "source": [
    "sns.boxplot(x='Outcome',y='BMI',data=diabetes_data_floats)"
   ]
  },
  {
   "cell_type": "code",
   "execution_count": null,
   "metadata": {},
   "outputs": [],
   "source": [
    "sns.boxplot(x='Outcome',y='DiabetesPedigreeFunction',data=diabetes_data_floats)"
   ]
  },
  {
   "cell_type": "code",
   "execution_count": null,
   "metadata": {},
   "outputs": [],
   "source": [
    "sns.boxplot(x='Outcome',y='Age',data=diabetes_data_floats)"
   ]
  },
  {
   "cell_type": "code",
   "execution_count": null,
   "metadata": {},
   "outputs": [],
   "source": []
  },
  {
   "cell_type": "code",
   "execution_count": null,
   "metadata": {},
   "outputs": [],
   "source": []
  },
  {
   "cell_type": "code",
   "execution_count": null,
   "metadata": {},
   "outputs": [],
   "source": [
    "# Visualize feature statistics for non-diabetic and diabetic patients using binary dataset"
   ]
  },
  {
   "cell_type": "code",
   "execution_count": null,
   "metadata": {},
   "outputs": [],
   "source": [
    "sns.boxplot(x='class',y='Age',data=diabetes_data_binary)"
   ]
  },
  {
   "cell_type": "code",
   "execution_count": null,
   "metadata": {},
   "outputs": [],
   "source": [
    "sns.barplot(x='class',y='Polyuria',data=diabetes_data_binary)"
   ]
  },
  {
   "cell_type": "code",
   "execution_count": null,
   "metadata": {},
   "outputs": [],
   "source": [
    "sns.barplot(x='class',y='Polydipsia',data=diabetes_data_binary)"
   ]
  },
  {
   "cell_type": "code",
   "execution_count": null,
   "metadata": {},
   "outputs": [],
   "source": [
    "sns.barplot(x='class',y='sudden weight loss',data=diabetes_data_binary)"
   ]
  },
  {
   "cell_type": "code",
   "execution_count": null,
   "metadata": {},
   "outputs": [],
   "source": [
    "sns.barplot(x='class',y='weakness',data=diabetes_data_binary)"
   ]
  },
  {
   "cell_type": "code",
   "execution_count": null,
   "metadata": {},
   "outputs": [],
   "source": [
    "sns.barplot(x='class',y='Polyphagia',data=diabetes_data_binary)"
   ]
  },
  {
   "cell_type": "code",
   "execution_count": null,
   "metadata": {},
   "outputs": [],
   "source": [
    "sns.barplot(x='class',y='Genital thrush',data=diabetes_data_binary)"
   ]
  },
  {
   "cell_type": "code",
   "execution_count": null,
   "metadata": {},
   "outputs": [],
   "source": [
    "sns.barplot(x='class',y='visual blurring',data=diabetes_data_binary)"
   ]
  },
  {
   "cell_type": "code",
   "execution_count": null,
   "metadata": {},
   "outputs": [],
   "source": [
    "sns.barplot(x='class',y='Itching',data=diabetes_data_binary)"
   ]
  },
  {
   "cell_type": "code",
   "execution_count": null,
   "metadata": {},
   "outputs": [],
   "source": [
    "sns.barplot(x='class',y='Irritability',data=diabetes_data_binary)"
   ]
  },
  {
   "cell_type": "code",
   "execution_count": null,
   "metadata": {},
   "outputs": [],
   "source": [
    "sns.barplot(x='class',y='delayed healing',data=diabetes_data_binary)"
   ]
  },
  {
   "cell_type": "code",
   "execution_count": null,
   "metadata": {},
   "outputs": [],
   "source": [
    "sns.barplot(x='class',y='partial paresis',data=diabetes_data_binary)"
   ]
  },
  {
   "cell_type": "code",
   "execution_count": null,
   "metadata": {},
   "outputs": [],
   "source": [
    "sns.barplot(x='class',y='muscle stiffness',data=diabetes_data_binary)"
   ]
  },
  {
   "cell_type": "code",
   "execution_count": null,
   "metadata": {},
   "outputs": [],
   "source": [
    "sns.barplot(x='class',y='Alopecia',data=diabetes_data_binary)"
   ]
  },
  {
   "cell_type": "code",
   "execution_count": null,
   "metadata": {},
   "outputs": [],
   "source": [
    "sns.barplot(x='class',y='Obesity',data=diabetes_data_binary)"
   ]
  },
  {
   "cell_type": "code",
   "execution_count": null,
   "metadata": {},
   "outputs": [],
   "source": []
  },
  {
   "cell_type": "code",
   "execution_count": null,
   "metadata": {},
   "outputs": [],
   "source": [
    "#Clustering using all the variables for floats "
   ]
  },
  {
   "cell_type": "code",
   "execution_count": null,
   "metadata": {},
   "outputs": [],
   "source": [
    "# Drop the outcome for X and our Y will be outcome\n",
    "X1_total = diabetes_data_floats.drop(\"Outcome\",axis = 1)\n",
    "Y1_total = diabetes_data_floats['Outcome']"
   ]
  },
  {
   "cell_type": "code",
   "execution_count": null,
   "metadata": {},
   "outputs": [],
   "source": [
    "#Scale data in X\n",
    "scaler = StandardScaler() \n",
    "scaler.fit(X1_total)\n",
    "X1_total_scaled = scaler.transform(X1_total) "
   ]
  },
  {
   "cell_type": "code",
   "execution_count": null,
   "metadata": {},
   "outputs": [],
   "source": []
  },
  {
   "cell_type": "code",
   "execution_count": null,
   "metadata": {},
   "outputs": [],
   "source": [
    "#Hierarchical Clustering with single linkage"
   ]
  },
  {
   "cell_type": "code",
   "execution_count": null,
   "metadata": {},
   "outputs": [],
   "source": [
    "clustering = linkage(X1_total_scaled,method = 'single',metric = 'euclidean')\n",
    "clusters = fcluster(clustering, 2,criterion = 'maxclust')"
   ]
  },
  {
   "cell_type": "code",
   "execution_count": null,
   "metadata": {},
   "outputs": [],
   "source": [
    "#Plot contingency matrix\n",
    "cont_matrix = metrics.cluster.contingency_matrix(Y1_total,clusters)\n",
    "sns.heatmap(cont_matrix, annot = True, fmt = \".3f\", square = True, cmap = plt.cm.Blues)\n",
    "plt.ylabel('Actual')\n",
    "plt.xlabel('Predicted')\n",
    "plt.title('Contingency matrix')\n",
    "plt.tight_layout()"
   ]
  },
  {
   "cell_type": "code",
   "execution_count": null,
   "metadata": {},
   "outputs": [],
   "source": [
    "#Calculate the adjusted rand index and silhouette coefficient\n",
    "adjusted_rand_index = metrics.adjusted_rand_score(Y1_total, clusters)\n",
    "silhouette_coefficient = metrics.silhouette_score(X1_total_scaled, clusters, metric = \"euclidean\")\n",
    "print([adjusted_rand_index, silhouette_coefficient])"
   ]
  },
  {
   "cell_type": "code",
   "execution_count": null,
   "metadata": {},
   "outputs": [],
   "source": [
    "#Plot the data using the clusters formed by Hierarchical clustering\n",
    "ax = diabetes_data_floats.plot(kind = 'scatter', x = 'Age', y = 'Glucose', c = clusters, colormap = plt.cm.brg)\n",
    "ax = diabetes_data_floats.plot(kind = 'scatter', x = 'Age', y = 'SkinThickness', c = clusters, colormap = plt.cm.brg)\n",
    "ax = diabetes_data_floats.plot(kind = 'scatter', x = 'Age', y = 'Insulin', c = clusters, colormap = plt.cm.brg)\n",
    "ax = diabetes_data_floats.plot(kind = 'scatter', x = 'Age', y = 'BMI', c = clusters, colormap = plt.cm.brg)\n",
    "ax = diabetes_data_floats.plot(kind = 'scatter', x = 'Age', y = 'Pregnancies', c = clusters, colormap = plt.cm.brg)\n",
    "ax = diabetes_data_floats.plot(kind = 'scatter', x = 'Age', y = 'BloodPressure', c = clusters, colormap = plt.cm.brg)\n",
    "ax = diabetes_data_floats.plot(kind = 'scatter', x = 'Age', y = 'DiabetesPedigreeFunction', c = clusters, colormap = plt.cm.brg)"
   ]
  },
  {
   "cell_type": "code",
   "execution_count": null,
   "metadata": {},
   "outputs": [],
   "source": []
  },
  {
   "cell_type": "code",
   "execution_count": null,
   "metadata": {},
   "outputs": [],
   "source": [
    "#Hierarchical Clustering with complete linkage"
   ]
  },
  {
   "cell_type": "code",
   "execution_count": null,
   "metadata": {},
   "outputs": [],
   "source": [
    "#Complete linkage clustering\n",
    "clustering = linkage(X1_total_scaled, method = \"complete\", metric = \"euclidean\")\n",
    "clusters = fcluster(clustering, 2, criterion = 'maxclust')"
   ]
  },
  {
   "cell_type": "code",
   "execution_count": null,
   "metadata": {},
   "outputs": [],
   "source": [
    "#Plot the contingency matrix\n",
    "cont_matrix = metrics.cluster.contingency_matrix(Y1_total,clusters)\n",
    "sns.heatmap(cont_matrix, annot = True, fmt = \".3f\", square = True, cmap = plt.cm.Blues)\n",
    "plt.ylabel('Actual')\n",
    "plt.xlabel('Predicted')\n",
    "plt.title('Contingency matrix')\n",
    "plt.tight_layout()"
   ]
  },
  {
   "cell_type": "code",
   "execution_count": null,
   "metadata": {},
   "outputs": [],
   "source": [
    "#Calculate adjusted rand index and silhouette coefficinet\n",
    "adjusted_rand_index = metrics.adjusted_rand_score(Y1_total, clusters)\n",
    "silhouette_coefficient = metrics.silhouette_score(X1_total_scaled, clusters, metric = \"euclidean\")\n",
    "print([adjusted_rand_index, silhouette_coefficient])"
   ]
  },
  {
   "cell_type": "code",
   "execution_count": null,
   "metadata": {},
   "outputs": [],
   "source": [
    "#Plot the data using the clusters formed by Hierarchical clustering\n",
    "ax = diabetes_data_floats.plot(kind = 'scatter', x = 'Age', y = 'Glucose', c = clusters, colormap = plt.cm.brg)\n",
    "ax = diabetes_data_floats.plot(kind = 'scatter', x = 'Age', y = 'SkinThickness', c = clusters, colormap = plt.cm.brg)\n",
    "ax = diabetes_data_floats.plot(kind = 'scatter', x = 'Age', y = 'Insulin', c = clusters, colormap = plt.cm.brg)\n",
    "ax = diabetes_data_floats.plot(kind = 'scatter', x = 'Age', y = 'BMI', c = clusters, colormap = plt.cm.brg)\n",
    "ax = diabetes_data_floats.plot(kind = 'scatter', x = 'Age', y = 'Pregnancies', c = clusters, colormap = plt.cm.brg)\n",
    "ax = diabetes_data_floats.plot(kind = 'scatter', x = 'Age', y = 'BloodPressure', c = clusters, colormap = plt.cm.brg)\n",
    "ax = diabetes_data_floats.plot(kind = 'scatter', x = 'Age', y = 'DiabetesPedigreeFunction', c = clusters, colormap = plt.cm.brg)"
   ]
  },
  {
   "cell_type": "code",
   "execution_count": null,
   "metadata": {},
   "outputs": [],
   "source": [
    "#KMeans Clustering iteration = 2 and choosing the centroids randomly"
   ]
  },
  {
   "cell_type": "code",
   "execution_count": null,
   "metadata": {},
   "outputs": [],
   "source": [
    "clustering = KMeans(n_clusters = 2, init = 'random', n_init = 2, random_state = 0).fit(X1_total_scaled)\n",
    "clusters = clustering.labels_"
   ]
  },
  {
   "cell_type": "code",
   "execution_count": null,
   "metadata": {},
   "outputs": [],
   "source": [
    "#Plot the contingency matrix\n",
    "cont_matrix = metrics.cluster.contingency_matrix(Y1_total,clusters)\n",
    "sns.heatmap(cont_matrix, annot = True, fmt = \".3f\", square = True, cmap = plt.cm.Blues)\n",
    "plt.ylabel('Actual')\n",
    "plt.xlabel('Predicted')\n",
    "plt.title('Contingency matrix')\n",
    "plt.tight_layout()"
   ]
  },
  {
   "cell_type": "code",
   "execution_count": null,
   "metadata": {},
   "outputs": [],
   "source": [
    "#calculate the adjusted rand index and silohouette coeff\n",
    "adjusted_rand_index = metrics.adjusted_rand_score(Y1_total, clusters)\n",
    "silhouette_coefficient = metrics.silhouette_score(X1_total_scaled, clusters, metric = \"euclidean\")\n",
    "print([adjusted_rand_index, silhouette_coefficient])"
   ]
  },
  {
   "cell_type": "code",
   "execution_count": null,
   "metadata": {},
   "outputs": [],
   "source": [
    "#Plot the clusters formed by KMeans clustering\n",
    "ax = diabetes_data_floats.plot(kind = 'scatter', x = 'Age', y = 'Glucose', c = clusters, colormap = plt.cm.brg)\n",
    "ax = diabetes_data_floats.plot(kind = 'scatter', x = 'Age', y = 'SkinThickness', c = clusters, colormap = plt.cm.brg)\n",
    "ax = diabetes_data_floats.plot(kind = 'scatter', x = 'Age', y = 'Insulin', c = clusters, colormap = plt.cm.brg)\n",
    "ax = diabetes_data_floats.plot(kind = 'scatter', x = 'Age', y = 'BMI', c = clusters, colormap = plt.cm.brg)\n",
    "ax = diabetes_data_floats.plot(kind = 'scatter', x = 'Age', y = 'Pregnancies', c = clusters, colormap = plt.cm.brg)\n",
    "ax = diabetes_data_floats.plot(kind = 'scatter', x = 'Age', y = 'BloodPressure', c = clusters, colormap = plt.cm.brg)\n",
    "ax = diabetes_data_floats.plot(kind = 'scatter', x = 'Age', y = 'DiabetesPedigreeFunction', c = clusters, colormap = plt.cm.brg)"
   ]
  },
  {
   "cell_type": "code",
   "execution_count": null,
   "metadata": {},
   "outputs": [],
   "source": []
  },
  {
   "cell_type": "code",
   "execution_count": null,
   "metadata": {},
   "outputs": [],
   "source": [
    "#KMeans using k-means++ and 20 iteration"
   ]
  },
  {
   "cell_type": "code",
   "execution_count": null,
   "metadata": {},
   "outputs": [],
   "source": []
  },
  {
   "cell_type": "code",
   "execution_count": null,
   "metadata": {},
   "outputs": [],
   "source": [
    "clustering = KMeans(n_clusters = 2, init = 'k-means++', n_init = 20,random_state = 0).fit(X1_total_scaled)\n",
    "clusters = clustering.labels_"
   ]
  },
  {
   "cell_type": "code",
   "execution_count": null,
   "metadata": {},
   "outputs": [],
   "source": [
    "#Plot the concingency matrix\n",
    "cont_matrix = metrics.cluster.contingency_matrix(Y1_total,clusters)\n",
    "sns.heatmap(cont_matrix, annot = True, fmt = \".3f\", square = True, cmap = plt.cm.Blues)\n",
    "plt.ylabel('Actual')\n",
    "plt.xlabel('Predicted')\n",
    "plt.title('Contingency matrix')\n",
    "plt.tight_layout()"
   ]
  },
  {
   "cell_type": "code",
   "execution_count": null,
   "metadata": {},
   "outputs": [],
   "source": [
    "#Calculate the adjusted rand index and silhouette coeff\n",
    "adjusted_rand_index = metrics.adjusted_rand_score(Y1_total, clusters)\n",
    "silhouette_coefficient = metrics.silhouette_score(X1_total_scaled, clusters, metric = \"euclidean\")\n",
    "print([adjusted_rand_index, silhouette_coefficient])"
   ]
  },
  {
   "cell_type": "code",
   "execution_count": null,
   "metadata": {},
   "outputs": [],
   "source": [
    "#Plot the clusters formed by KMeans clustering \n",
    "ax = diabetes_data_floats.plot(kind = 'scatter', x = 'Age', y = 'Glucose', c = clusters, colormap = plt.cm.brg)\n",
    "ax = diabetes_data_floats.plot(kind = 'scatter', x = 'Age', y = 'SkinThickness', c = clusters, colormap = plt.cm.brg)\n",
    "ax = diabetes_data_floats.plot(kind = 'scatter', x = 'Age', y = 'Insulin', c = clusters, colormap = plt.cm.brg)\n",
    "ax = diabetes_data_floats.plot(kind = 'scatter', x = 'Age', y = 'BMI', c = clusters, colormap = plt.cm.brg)\n",
    "ax = diabetes_data_floats.plot(kind = 'scatter', x = 'Age', y = 'Pregnancies', c = clusters, colormap = plt.cm.brg)\n",
    "ax = diabetes_data_floats.plot(kind = 'scatter', x = 'Age', y = 'BloodPressure', c = clusters, colormap = plt.cm.brg)\n",
    "ax = diabetes_data_floats.plot(kind = 'scatter', x = 'Age', y = 'DiabetesPedigreeFunction', c = clusters, colormap = plt.cm.brg)"
   ]
  },
  {
   "cell_type": "code",
   "execution_count": null,
   "metadata": {},
   "outputs": [],
   "source": []
  },
  {
   "cell_type": "code",
   "execution_count": null,
   "metadata": {},
   "outputs": [],
   "source": [
    "#DBSCAN for eps 1 and min_sample 10"
   ]
  },
  {
   "cell_type": "code",
   "execution_count": null,
   "metadata": {},
   "outputs": [],
   "source": [
    "clustering = DBSCAN(eps = 1, min_samples = 10, metric = \"euclidean\").fit(X1_total_scaled)\n",
    "clusters = clustering.labels_"
   ]
  },
  {
   "cell_type": "code",
   "execution_count": null,
   "metadata": {},
   "outputs": [],
   "source": [
    "#Plot the contingency matrix and we have 3 clusters forms because our min_ sample is small for the eps value\n",
    "cont_matrix = metrics.cluster.contingency_matrix(Y1_total, clusters)\n",
    "sns.heatmap(cont_matrix, annot = True, fmt = \".3f\", square = True, cmap = plt.cm.Blues)\n",
    "plt.ylabel('Actual')\n",
    "plt.xlabel('Predicted')\n",
    "plt.title('Contingency matrix')\n",
    "plt.tight_layout()"
   ]
  },
  {
   "cell_type": "code",
   "execution_count": null,
   "metadata": {},
   "outputs": [],
   "source": [
    "#Calculate the rand index\n",
    "adjusted_rand_index = metrics.adjusted_rand_score(Y1_total, clusters)\n",
    "silhouette_coefficient = metrics.silhouette_score(X1_total_scaled, clusters, metric = \"euclidean\")\n",
    "print([adjusted_rand_index, silhouette_coefficient])"
   ]
  },
  {
   "cell_type": "code",
   "execution_count": null,
   "metadata": {},
   "outputs": [],
   "source": [
    "#Plot the clusters formed by \n",
    "ax = diabetes_data_floats.plot(kind = 'scatter', x = 'Age', y = 'Glucose', c = clusters, colormap = plt.cm.brg)\n",
    "ax = diabetes_data_floats.plot(kind = 'scatter', x = 'Age', y = 'SkinThickness', c = clusters, colormap = plt.cm.brg)\n",
    "ax = diabetes_data_floats.plot(kind = 'scatter', x = 'Age', y = 'Insulin', c = clusters, colormap = plt.cm.brg)\n",
    "ax = diabetes_data_floats.plot(kind = 'scatter', x = 'Age', y = 'BMI', c = clusters, colormap = plt.cm.brg)\n",
    "ax = diabetes_data_floats.plot(kind = 'scatter', x = 'Age', y = 'Pregnancies', c = clusters, colormap = plt.cm.brg)\n",
    "ax = diabetes_data_floats.plot(kind = 'scatter', x = 'Age', y = 'BloodPressure', c = clusters, colormap = plt.cm.brg)\n",
    "ax = diabetes_data_floats.plot(kind = 'scatter', x = 'Age', y = 'DiabetesPedigreeFunction', c = clusters, colormap = plt.cm.brg)"
   ]
  },
  {
   "cell_type": "code",
   "execution_count": null,
   "metadata": {},
   "outputs": [],
   "source": [
    "#DBSCAN with increase in min_sample and eps"
   ]
  },
  {
   "cell_type": "code",
   "execution_count": null,
   "metadata": {},
   "outputs": [],
   "source": [
    "clustering = DBSCAN(eps = 3, min_samples = 20, metric = \"euclidean\").fit(X1_total_scaled)\n",
    "clusters = clustering.labels_"
   ]
  },
  {
   "cell_type": "code",
   "execution_count": null,
   "metadata": {},
   "outputs": [],
   "source": [
    "#Plot the contingency matrix\n",
    "cont_matrix = metrics.cluster.contingency_matrix(Y1_total, clusters)\n",
    "sns.heatmap(cont_matrix, annot = True, fmt = \".3f\", square = True, cmap = plt.cm.Blues)\n",
    "plt.ylabel('Actual')\n",
    "plt.xlabel('Predicted')\n",
    "plt.title('Contingency matrix')\n",
    "plt.tight_layout()"
   ]
  },
  {
   "cell_type": "code",
   "execution_count": null,
   "metadata": {},
   "outputs": [],
   "source": [
    "#Calculate the values of adjusted rand index and  silhouette coeff\n",
    "adjusted_rand_index = metrics.adjusted_rand_score(Y1_total, clusters)\n",
    "silhouette_coefficient = metrics.silhouette_score(X1_total_scaled, clusters, metric = \"euclidean\")\n",
    "print([adjusted_rand_index, silhouette_coefficient])"
   ]
  },
  {
   "cell_type": "code",
   "execution_count": null,
   "metadata": {},
   "outputs": [],
   "source": [
    "#Plot the clusters formed by DBSCAN\n",
    "ax = diabetes_data_floats.plot(kind = 'scatter', x = 'Age', y = 'Glucose', c = clusters, colormap = plt.cm.brg)\n",
    "ax = diabetes_data_floats.plot(kind = 'scatter', x = 'Age', y = 'SkinThickness', c = clusters, colormap = plt.cm.brg)\n",
    "ax = diabetes_data_floats.plot(kind = 'scatter', x = 'Age', y = 'Insulin', c = clusters, colormap = plt.cm.brg)\n",
    "ax = diabetes_data_floats.plot(kind = 'scatter', x = 'Age', y = 'BMI', c = clusters, colormap = plt.cm.brg)\n",
    "ax = diabetes_data_floats.plot(kind = 'scatter', x = 'Age', y = 'Pregnancies', c = clusters, colormap = plt.cm.brg)\n",
    "ax = diabetes_data_floats.plot(kind = 'scatter', x = 'Age', y = 'BloodPressure', c = clusters, colormap = plt.cm.brg)\n",
    "ax = diabetes_data_floats.plot(kind = 'scatter', x = 'Age', y = 'DiabetesPedigreeFunction', c = clusters, colormap = plt.cm.brg)"
   ]
  },
  {
   "cell_type": "code",
   "execution_count": null,
   "metadata": {},
   "outputs": [],
   "source": []
  },
  {
   "cell_type": "code",
   "execution_count": null,
   "metadata": {},
   "outputs": [],
   "source": []
  },
  {
   "cell_type": "code",
   "execution_count": null,
   "metadata": {},
   "outputs": [],
   "source": [
    "#Evaluation metrix for true clusters of data"
   ]
  },
  {
   "cell_type": "code",
   "execution_count": null,
   "metadata": {},
   "outputs": [],
   "source": [
    "silhouette_coefficient = metrics.silhouette_score(X1_total, Y1_total, metric = \"euclidean\")\n",
    "print(silhouette_coefficient)"
   ]
  },
  {
   "cell_type": "code",
   "execution_count": null,
   "metadata": {},
   "outputs": [],
   "source": [
    "#Plot true clusters\n",
    "ax = diabetes_data_floats.plot(kind = 'scatter', x = 'Age', y = 'Glucose', c = Y1_total, colormap = plt.cm.brg)\n",
    "ax = diabetes_data_floats.plot(kind = 'scatter', x = 'Age', y = 'SkinThickness', c = Y1_total, colormap = plt.cm.brg)\n",
    "ax = diabetes_data_floats.plot(kind = 'scatter', x = 'Age', y = 'Insulin', c = Y1_total, colormap = plt.cm.brg)\n",
    "ax = diabetes_data_floats.plot(kind = 'scatter', x = 'Age', y = 'BMI', c = Y1_total, colormap = plt.cm.brg)\n",
    "ax = diabetes_data_floats.plot(kind = 'scatter', x = 'Age', y = 'Pregnancies', c = Y1_total, colormap = plt.cm.brg)\n",
    "ax = diabetes_data_floats.plot(kind = 'scatter', x = 'Age', y = 'BloodPressure', c = Y1_total, colormap = plt.cm.brg)\n",
    "ax = diabetes_data_floats.plot(kind = 'scatter', x = 'Age', y = 'DiabetesPedigreeFunction', c = Y1_total, colormap = plt.cm.brg)"
   ]
  },
  {
   "cell_type": "code",
   "execution_count": null,
   "metadata": {},
   "outputs": [],
   "source": []
  },
  {
   "cell_type": "code",
   "execution_count": null,
   "metadata": {},
   "outputs": [],
   "source": []
  },
  {
   "cell_type": "code",
   "execution_count": null,
   "metadata": {},
   "outputs": [],
   "source": [
    "#Clustering for majorlying impacting float data variables"
   ]
  },
  {
   "cell_type": "code",
   "execution_count": null,
   "metadata": {},
   "outputs": [],
   "source": [
    " "
   ]
  },
  {
   "cell_type": "code",
   "execution_count": null,
   "metadata": {},
   "outputs": [],
   "source": [
    "X1 = diabetes_data_floats[['Glucose','Age','Insulin','SkinThickness']]\n",
    "Y1 = diabetes_data_floats['Outcome']"
   ]
  },
  {
   "cell_type": "code",
   "execution_count": null,
   "metadata": {},
   "outputs": [],
   "source": [
    "scaler = StandardScaler() \n",
    "scaler.fit(X1)\n",
    "X1_scaled = scaler.transform(X1) "
   ]
  },
  {
   "cell_type": "code",
   "execution_count": null,
   "metadata": {},
   "outputs": [],
   "source": [
    "#Hierarchical Clustering with single linkage"
   ]
  },
  {
   "cell_type": "code",
   "execution_count": null,
   "metadata": {},
   "outputs": [],
   "source": [
    "clustering = linkage(X1_scaled,method = 'single',metric = 'euclidean')\n",
    "clusters = fcluster(clustering, 2,criterion = 'maxclust')"
   ]
  },
  {
   "cell_type": "code",
   "execution_count": null,
   "metadata": {},
   "outputs": [],
   "source": [
    "#Plot the contingency matrix\n",
    "cont_matrix = metrics.cluster.contingency_matrix(Y1,clusters)\n",
    "sns.heatmap(cont_matrix, annot = True, fmt = \".3f\", square = True, cmap = plt.cm.Blues)\n",
    "plt.ylabel('Actual')\n",
    "plt.xlabel('Predicted')\n",
    "plt.title('Contingency matrix')\n",
    "plt.tight_layout()"
   ]
  },
  {
   "cell_type": "code",
   "execution_count": null,
   "metadata": {},
   "outputs": [],
   "source": [
    "#Calculate the adjusted rand index and silohouette coeff\n",
    "adjusted_rand_index = metrics.adjusted_rand_score(Y1, clusters)\n",
    "silhouette_coefficient = metrics.silhouette_score(X1_scaled, clusters, metric = \"euclidean\")\n",
    "print([adjusted_rand_index, silhouette_coefficient])"
   ]
  },
  {
   "cell_type": "code",
   "execution_count": null,
   "metadata": {},
   "outputs": [],
   "source": [
    "#Plot clusters formed by hierarchical clustering\n",
    "ax = diabetes_data_floats.plot(kind = 'scatter', x = 'Age', y = 'Glucose', c = clusters, colormap = plt.cm.brg)\n",
    "ax = diabetes_data_floats.plot(kind = 'scatter', x = 'Age', y = 'SkinThickness', c = clusters, colormap = plt.cm.brg)\n",
    "ax = diabetes_data_floats.plot(kind = 'scatter', x = 'Age', y = 'Insulin', c = clusters, colormap = plt.cm.brg)"
   ]
  },
  {
   "cell_type": "code",
   "execution_count": null,
   "metadata": {},
   "outputs": [],
   "source": [
    "#Hierarchical Clustering with complete linkage"
   ]
  },
  {
   "cell_type": "code",
   "execution_count": null,
   "metadata": {},
   "outputs": [],
   "source": [
    "clustering = linkage(X1_scaled, method = \"complete\", metric = \"euclidean\")\n",
    "clusters = fcluster(clustering, 2, criterion = 'maxclust')"
   ]
  },
  {
   "cell_type": "code",
   "execution_count": null,
   "metadata": {},
   "outputs": [],
   "source": [
    "#Plot the contingency matrix\n",
    "cont_matrix = metrics.cluster.contingency_matrix(Y1,clusters)\n",
    "sns.heatmap(cont_matrix, annot = True, fmt = \".3f\", square = True, cmap = plt.cm.Blues)\n",
    "plt.ylabel('Actual')\n",
    "plt.xlabel('Predicted')\n",
    "plt.title('Contingency matrix')\n",
    "plt.tight_layout()"
   ]
  },
  {
   "cell_type": "code",
   "execution_count": null,
   "metadata": {},
   "outputs": [],
   "source": [
    "#Calculate the values for adjusted rand index and silhouette coeff\n",
    "adjusted_rand_index = metrics.adjusted_rand_score(Y1, clusters)\n",
    "silhouette_coefficient = metrics.silhouette_score(X1_scaled, clusters, metric = \"euclidean\")\n",
    "print([adjusted_rand_index, silhouette_coefficient])"
   ]
  },
  {
   "cell_type": "code",
   "execution_count": null,
   "metadata": {},
   "outputs": [],
   "source": [
    "#Plot the clusters formed by Hierarchical clusters\n",
    "ax = diabetes_data_floats.plot(kind = 'scatter', x = 'Age', y = 'Glucose', c = clusters, colormap = plt.cm.brg)\n",
    "ax = diabetes_data_floats.plot(kind = 'scatter', x = 'Age', y = 'SkinThickness', c = clusters, colormap = plt.cm.brg)\n",
    "ax = diabetes_data_floats.plot(kind = 'scatter', x = 'Age', y = 'Insulin', c = clusters, colormap = plt.cm.brg)"
   ]
  },
  {
   "cell_type": "code",
   "execution_count": null,
   "metadata": {},
   "outputs": [],
   "source": [
    "#KMeans Clustering iteration = 2"
   ]
  },
  {
   "cell_type": "code",
   "execution_count": null,
   "metadata": {},
   "outputs": [],
   "source": [
    "clustering = KMeans(n_clusters = 2, init = 'random', n_init = 2, random_state = 0).fit(X1_scaled)\n",
    "clusters = clustering.labels_"
   ]
  },
  {
   "cell_type": "code",
   "execution_count": null,
   "metadata": {},
   "outputs": [],
   "source": [
    "#Plot the contingency matrix\n",
    "cont_matrix = metrics.cluster.contingency_matrix(Y1,clusters)\n",
    "sns.heatmap(cont_matrix, annot = True, fmt = \".3f\", square = True, cmap = plt.cm.Blues)\n",
    "plt.ylabel('Actual')\n",
    "plt.xlabel('Predicted')\n",
    "plt.title('Contingency matrix')\n",
    "plt.tight_layout()"
   ]
  },
  {
   "cell_type": "code",
   "execution_count": null,
   "metadata": {},
   "outputs": [],
   "source": [
    "adjusted_rand_index = metrics.adjusted_rand_score(Y1, clusters)\n",
    "silhouette_coefficient = metrics.silhouette_score(X1_scaled, clusters, metric = \"euclidean\")\n",
    "print([adjusted_rand_index, silhouette_coefficient])"
   ]
  },
  {
   "cell_type": "code",
   "execution_count": null,
   "metadata": {},
   "outputs": [],
   "source": [
    "#Plot the clusters formed by KMeans clustering\n",
    "ax = diabetes_data_floats.plot(kind = 'scatter', x = 'Age', y = 'Glucose', c = clusters, colormap = plt.cm.brg)\n",
    "ax = diabetes_data_floats.plot(kind = 'scatter', x = 'Age', y = 'SkinThickness', c = clusters, colormap = plt.cm.brg)\n",
    "ax = diabetes_data_floats.plot(kind = 'scatter', x = 'Age', y = 'Insulin', c = clusters, colormap = plt.cm.brg)"
   ]
  },
  {
   "cell_type": "code",
   "execution_count": null,
   "metadata": {},
   "outputs": [],
   "source": [
    "#KMeans using k-means++ iteration"
   ]
  },
  {
   "cell_type": "code",
   "execution_count": null,
   "metadata": {},
   "outputs": [],
   "source": [
    "clustering = KMeans(n_clusters = 2, init = 'k-means++', n_init = 20,random_state = 0).fit(X1_scaled)\n",
    "# clustering = KMeans(n_clusters = 4, init = 'random', n_init = 20, random_state = 0).fit(X)\n",
    "clusters = clustering.labels_"
   ]
  },
  {
   "cell_type": "code",
   "execution_count": null,
   "metadata": {},
   "outputs": [],
   "source": [
    "#Plot the contingency matrix\n",
    "cont_matrix = metrics.cluster.contingency_matrix(Y1,clusters)\n",
    "sns.heatmap(cont_matrix, annot = True, fmt = \".3f\", square = True, cmap = plt.cm.Blues)\n",
    "plt.ylabel('Actual')\n",
    "plt.xlabel('Predicted')\n",
    "plt.title('Contingency matrix')\n",
    "plt.tight_layout()"
   ]
  },
  {
   "cell_type": "code",
   "execution_count": null,
   "metadata": {},
   "outputs": [],
   "source": [
    "#Calculate the adjusted rand index and silhouette coeff\n",
    "adjusted_rand_index = metrics.adjusted_rand_score(Y1, clusters)\n",
    "silhouette_coefficient = metrics.silhouette_score(X1_scaled, clusters, metric = \"euclidean\")\n",
    "print([adjusted_rand_index, silhouette_coefficient])"
   ]
  },
  {
   "cell_type": "code",
   "execution_count": null,
   "metadata": {},
   "outputs": [],
   "source": [
    "#Plot the clusters formed by KMeans clustering\n",
    "ax = diabetes_data_floats.plot(kind = 'scatter', x = 'Age', y = 'Glucose', c = clusters, colormap = plt.cm.brg)\n",
    "ax = diabetes_data_floats.plot(kind = 'scatter', x = 'Age', y = 'SkinThickness', c = clusters, colormap = plt.cm.brg)\n",
    "ax = diabetes_data_floats.plot(kind = 'scatter', x = 'Age', y = 'Insulin', c = clusters, colormap = plt.cm.brg)"
   ]
  },
  {
   "cell_type": "code",
   "execution_count": null,
   "metadata": {},
   "outputs": [],
   "source": [
    "#DBSCAN Clustering "
   ]
  },
  {
   "cell_type": "code",
   "execution_count": null,
   "metadata": {},
   "outputs": [],
   "source": [
    "clustering = DBSCAN(eps = 1, min_samples = 20, metric = \"euclidean\").fit(X1_scaled)\n",
    "clusters = clustering.labels_"
   ]
  },
  {
   "cell_type": "code",
   "execution_count": null,
   "metadata": {},
   "outputs": [],
   "source": [
    "# Plot contingency matrix\n",
    "cont_matrix = metrics.cluster.contingency_matrix(Y1, clusters)\n",
    "sns.heatmap(cont_matrix, annot = True, fmt = \".3f\", square = True, cmap = plt.cm.Blues)\n",
    "plt.ylabel('Actual')\n",
    "plt.xlabel('Predicted')\n",
    "plt.title('Contingency matrix')\n",
    "plt.tight_layout()"
   ]
  },
  {
   "cell_type": "code",
   "execution_count": null,
   "metadata": {},
   "outputs": [],
   "source": [
    "#Calculate the adjusted rand index and silohouette coeff\n",
    "adjusted_rand_index = metrics.adjusted_rand_score(Y1, clusters)\n",
    "silhouette_coefficient = metrics.silhouette_score(X1_scaled, clusters, metric = \"euclidean\")\n",
    "print([adjusted_rand_index, silhouette_coefficient])"
   ]
  },
  {
   "cell_type": "code",
   "execution_count": null,
   "metadata": {},
   "outputs": [],
   "source": [
    "#Plot the clusters formed by DBSCAN\n",
    "ax = diabetes_data_floats.plot(kind = 'scatter', x = 'Age', y = 'Glucose', c = clusters, colormap = plt.cm.brg)\n",
    "ax = diabetes_data_floats.plot(kind = 'scatter', x = 'Age', y = 'SkinThickness', c = clusters, colormap = plt.cm.brg)\n",
    "ax = diabetes_data_floats.plot(kind = 'scatter', x = 'Age', y = 'Insulin', c = clusters, colormap = plt.cm.brg)"
   ]
  },
  {
   "cell_type": "code",
   "execution_count": null,
   "metadata": {},
   "outputs": [],
   "source": [
    "#DBSCAN with change eps value and min_sample"
   ]
  },
  {
   "cell_type": "code",
   "execution_count": null,
   "metadata": {},
   "outputs": [],
   "source": [
    "clustering = DBSCAN(eps = 2, min_samples = 10, metric = \"euclidean\").fit(X1_scaled)\n",
    "clusters = clustering.labels_"
   ]
  },
  {
   "cell_type": "code",
   "execution_count": null,
   "metadata": {},
   "outputs": [],
   "source": [
    "# Plot contingency matrix\n",
    "cont_matrix = metrics.cluster.contingency_matrix(Y1, clusters)\n",
    "sns.heatmap(cont_matrix, annot = True, fmt = \".3f\", square = True, cmap = plt.cm.Blues)\n",
    "plt.ylabel('Actual')\n",
    "plt.xlabel('Predicted')\n",
    "plt.title('Contingency matrix')\n",
    "plt.tight_layout()"
   ]
  },
  {
   "cell_type": "code",
   "execution_count": null,
   "metadata": {},
   "outputs": [],
   "source": [
    "#Calculate the adjusted rand index and silohouette coeff\n",
    "adjusted_rand_index = metrics.adjusted_rand_score(Y1, clusters)\n",
    "silhouette_coefficient = metrics.silhouette_score(X1_scaled, clusters, metric = \"euclidean\")\n",
    "print([adjusted_rand_index, silhouette_coefficient])"
   ]
  },
  {
   "cell_type": "code",
   "execution_count": null,
   "metadata": {},
   "outputs": [],
   "source": [
    "#Plot the clusters formed by DBSCAN\n",
    "ax = diabetes_data_floats.plot(kind = 'scatter', x = 'Age', y = 'Glucose', c = clusters, colormap = plt.cm.brg)\n",
    "ax = diabetes_data_floats.plot(kind = 'scatter', x = 'Age', y = 'SkinThickness', c = clusters, colormap = plt.cm.brg)\n",
    "ax = diabetes_data_floats.plot(kind = 'scatter', x = 'Age', y = 'Insulin', c = clusters, colormap = plt.cm.brg)"
   ]
  },
  {
   "cell_type": "code",
   "execution_count": null,
   "metadata": {},
   "outputs": [],
   "source": []
  },
  {
   "cell_type": "code",
   "execution_count": null,
   "metadata": {},
   "outputs": [],
   "source": []
  },
  {
   "cell_type": "code",
   "execution_count": null,
   "metadata": {},
   "outputs": [],
   "source": []
  },
  {
   "cell_type": "code",
   "execution_count": null,
   "metadata": {},
   "outputs": [],
   "source": [
    "# Evaluation Matrix"
   ]
  },
  {
   "cell_type": "code",
   "execution_count": null,
   "metadata": {},
   "outputs": [],
   "source": [
    "silhouette_coefficient = metrics.silhouette_score(X1, Y1, metric = \"euclidean\")\n",
    "print(silhouette_coefficient)"
   ]
  },
  {
   "cell_type": "code",
   "execution_count": null,
   "metadata": {},
   "outputs": [],
   "source": [
    "ax = diabetes_data_floats.plot(kind = 'scatter', x = 'Age', y = 'Glucose', c = Y1, colormap = plt.cm.brg)\n",
    "ax = diabetes_data_floats.plot(kind = 'scatter', x = 'Age', y = 'SkinThickness', c = Y1, colormap = plt.cm.brg)\n",
    "ax = diabetes_data_floats.plot(kind = 'scatter', x = 'Age', y = 'Insulin', c = Y1, colormap = plt.cm.brg)"
   ]
  },
  {
   "cell_type": "code",
   "execution_count": null,
   "metadata": {},
   "outputs": [],
   "source": []
  },
  {
   "cell_type": "code",
   "execution_count": null,
   "metadata": {},
   "outputs": [],
   "source": [
    "# Clustering using all variables for binary clusters"
   ]
  },
  {
   "cell_type": "code",
   "execution_count": null,
   "metadata": {},
   "outputs": [],
   "source": [
    "X2_total = diabetes_data_binary.drop('class',axis = 1)"
   ]
  },
  {
   "cell_type": "code",
   "execution_count": null,
   "metadata": {},
   "outputs": [],
   "source": [
    "Y2_total = diabetes_data_binary[\"class\"]"
   ]
  },
  {
   "cell_type": "code",
   "execution_count": null,
   "metadata": {},
   "outputs": [],
   "source": [
    "scaler = StandardScaler() \n",
    "scaler.fit(X2_total)\n",
    "X2_total_scaled = scaler.transform(X2_total) "
   ]
  },
  {
   "cell_type": "code",
   "execution_count": null,
   "metadata": {},
   "outputs": [],
   "source": [
    "#Hierarchical Clustering with single linkage"
   ]
  },
  {
   "cell_type": "code",
   "execution_count": null,
   "metadata": {},
   "outputs": [],
   "source": [
    "clustering = linkage(X2_total_scaled,method = 'single',metric = 'euclidean')\n",
    "clusters = fcluster(clustering, 2,criterion = 'maxclust')"
   ]
  },
  {
   "cell_type": "code",
   "execution_count": null,
   "metadata": {},
   "outputs": [],
   "source": [
    "#Plot the contingency matrix\n",
    "cont_matrix = metrics.cluster.contingency_matrix(Y2_total,clusters)\n",
    "sns.heatmap(cont_matrix, annot = True, fmt = \".3f\", square = True, cmap = plt.cm.Blues)\n",
    "plt.ylabel('Actual')\n",
    "plt.xlabel('Predicted')\n",
    "plt.title('Contingency matrix')\n",
    "plt.tight_layout()"
   ]
  },
  {
   "cell_type": "code",
   "execution_count": null,
   "metadata": {},
   "outputs": [],
   "source": [
    "#Calculate the adjusted rand index and silhouette coeff\n",
    "adjusted_rand_index = metrics.adjusted_rand_score(Y2_total, clusters)\n",
    "silhouette_coefficient = metrics.silhouette_score(X2_total_scaled, clusters, metric = \"euclidean\")\n",
    "print([adjusted_rand_index, silhouette_coefficient])"
   ]
  },
  {
   "cell_type": "code",
   "execution_count": null,
   "metadata": {},
   "outputs": [],
   "source": [
    "#Plot the clusters formed by Hierarchical clustering\n",
    "ax = diabetes_data_binary.plot(kind = 'scatter', x = 'Polydipsia', y = 'Polyuria', c = clusters, colormap = plt.cm.brg)\n",
    "ax = diabetes_data_binary.plot(kind = 'scatter', x = 'Polydipsia', y = \"sudden weight loss\", c = clusters, colormap = plt.cm.brg)\n",
    "ax = diabetes_data_binary.plot(kind = 'scatter', x = 'Polydipsia', y = 'Irritability', c = clusters, colormap = plt.cm.brg)\n",
    "ax = diabetes_data_binary.plot(kind = 'scatter', x = 'Polydipsia', y = 'partial paresis', c = clusters, colormap = plt.cm.brg)"
   ]
  },
  {
   "cell_type": "code",
   "execution_count": null,
   "metadata": {},
   "outputs": [],
   "source": []
  },
  {
   "cell_type": "code",
   "execution_count": null,
   "metadata": {},
   "outputs": [],
   "source": [
    "#Hierarchical Clustering with complete linkage"
   ]
  },
  {
   "cell_type": "code",
   "execution_count": null,
   "metadata": {},
   "outputs": [],
   "source": [
    "clustering = linkage(X2_total_scaled, method = \"complete\", metric = \"euclidean\")\n",
    "clusters = fcluster(clustering, 2, criterion = 'maxclust')"
   ]
  },
  {
   "cell_type": "code",
   "execution_count": null,
   "metadata": {},
   "outputs": [],
   "source": [
    "#Plot the contingency matrix\n",
    "cont_matrix = metrics.cluster.contingency_matrix(Y2_total,clusters)\n",
    "sns.heatmap(cont_matrix, annot = True, fmt = \".3f\", square = True, cmap = plt.cm.Blues)\n",
    "plt.ylabel('Actual')\n",
    "plt.xlabel('Predicted')\n",
    "plt.title('Contingency matrix')\n",
    "plt.tight_layout()"
   ]
  },
  {
   "cell_type": "code",
   "execution_count": null,
   "metadata": {},
   "outputs": [],
   "source": [
    "#Calculate the adjusted rand index and silhouette coeff\n",
    "adjusted_rand_index = metrics.adjusted_rand_score(Y2_total, clusters)\n",
    "silhouette_coefficient = metrics.silhouette_score(X2_total_scaled, clusters, metric = \"euclidean\")\n",
    "print([adjusted_rand_index, silhouette_coefficient])"
   ]
  },
  {
   "cell_type": "code",
   "execution_count": null,
   "metadata": {},
   "outputs": [],
   "source": [
    "ax = diabetes_data_binary.plot(kind = 'scatter', x = 'Polydipsia', y = 'Polyuria', c = clusters, colormap = plt.cm.brg)\n",
    "ax = diabetes_data_binary.plot(kind = 'scatter', x = 'Polydipsia', y = \"sudden weight loss\", c = clusters, colormap = plt.cm.brg)\n",
    "ax = diabetes_data_binary.plot(kind = 'scatter', x = 'Polydipsia', y = 'Irritability', c = clusters, colormap = plt.cm.brg)\n",
    "ax = diabetes_data_binary.plot(kind = 'scatter', x = 'Polydipsia', y = 'partial paresis', c = clusters, colormap = plt.cm.brg)"
   ]
  },
  {
   "cell_type": "code",
   "execution_count": null,
   "metadata": {},
   "outputs": [],
   "source": []
  },
  {
   "cell_type": "code",
   "execution_count": null,
   "metadata": {},
   "outputs": [],
   "source": [
    "# KMeans clustering by randon choice of centroids and 1 iteration"
   ]
  },
  {
   "cell_type": "code",
   "execution_count": null,
   "metadata": {},
   "outputs": [],
   "source": [
    "clustering = KMeans(n_clusters = 2, init = 'random', n_init = 1, random_state = 0).fit(X2_total_scaled)\n",
    "clusters = clustering.labels_"
   ]
  },
  {
   "cell_type": "code",
   "execution_count": null,
   "metadata": {},
   "outputs": [],
   "source": [
    "#Plot the contingency matrix\n",
    "cont_matrix = metrics.cluster.contingency_matrix(Y2_total,clusters)\n",
    "sns.heatmap(cont_matrix, annot = True, fmt = \".3f\", square = True, cmap = plt.cm.Blues)\n",
    "plt.ylabel('Actual')\n",
    "plt.xlabel('Predicted')\n",
    "plt.title('Contingency matrix')\n",
    "plt.tight_layout()"
   ]
  },
  {
   "cell_type": "code",
   "execution_count": null,
   "metadata": {},
   "outputs": [],
   "source": [
    "#Calculate the adjusted rand index and silhouette coeff\n",
    "adjusted_rand_index = metrics.adjusted_rand_score(Y2_total, clusters)\n",
    "silhouette_coefficient = metrics.silhouette_score(X2_total_scaled, clusters, metric = \"euclidean\")\n",
    "print([adjusted_rand_index, silhouette_coefficient])"
   ]
  },
  {
   "cell_type": "code",
   "execution_count": null,
   "metadata": {},
   "outputs": [],
   "source": [
    "#Plot the clusters using the clusters formed by KMeans clusetring\n",
    "ax = diabetes_data_binary.plot(kind = 'scatter', x = 'Polydipsia', y = 'Polyuria', c = clusters, colormap = plt.cm.brg)\n",
    "ax = diabetes_data_binary.plot(kind = 'scatter', x = 'Polydipsia', y = \"sudden weight loss\", c = clusters, colormap = plt.cm.brg)\n",
    "ax = diabetes_data_binary.plot(kind = 'scatter', x = 'Polydipsia', y = 'Irritability', c = clusters, colormap = plt.cm.brg)\n",
    "ax = diabetes_data_binary.plot(kind = 'scatter', x = 'Polydipsia', y = 'partial paresis', c = clusters, colormap = plt.cm.brg)"
   ]
  },
  {
   "cell_type": "code",
   "execution_count": null,
   "metadata": {},
   "outputs": [],
   "source": []
  },
  {
   "cell_type": "code",
   "execution_count": null,
   "metadata": {},
   "outputs": [],
   "source": [
    "#KMeans clusteirng using 10 iteration and the centroids are chosen iteratively"
   ]
  },
  {
   "cell_type": "code",
   "execution_count": null,
   "metadata": {},
   "outputs": [],
   "source": [
    "clustering = KMeans(n_clusters = 2, init = 'k-means++', n_init = 10,random_state = 0).fit(X2_total_scaled)\n",
    "clusters = clustering.labels_"
   ]
  },
  {
   "cell_type": "code",
   "execution_count": null,
   "metadata": {},
   "outputs": [],
   "source": [
    "#Plot the contingency matrix\n",
    "cont_matrix = metrics.cluster.contingency_matrix(Y2_total,clusters)\n",
    "sns.heatmap(cont_matrix, annot = True, fmt = \".3f\", square = True, cmap = plt.cm.Blues)\n",
    "plt.ylabel('Actual')\n",
    "plt.xlabel('Predicted')\n",
    "plt.title('Contingency matrix')\n",
    "plt.tight_layout()"
   ]
  },
  {
   "cell_type": "code",
   "execution_count": null,
   "metadata": {},
   "outputs": [],
   "source": [
    "#Calculate the adjusted rand index and silhouette coeff\n",
    "adjusted_rand_index = metrics.adjusted_rand_score(Y2_total, clusters)\n",
    "silhouette_coefficient = metrics.silhouette_score(X2_total_scaled, clusters, metric = \"euclidean\")\n",
    "print([adjusted_rand_index, silhouette_coefficient])"
   ]
  },
  {
   "cell_type": "code",
   "execution_count": null,
   "metadata": {},
   "outputs": [],
   "source": [
    "#Plot the clusters formed by KMeans clustering\n",
    "ax = diabetes_data_binary.plot(kind = 'scatter', x = 'Polydipsia', y = 'Polyuria', c = clusters, colormap = plt.cm.brg)\n",
    "ax = diabetes_data_binary.plot(kind = 'scatter', x = 'Polydipsia', y = \"sudden weight loss\", c = clusters, colormap = plt.cm.brg)\n",
    "ax = diabetes_data_binary.plot(kind = 'scatter', x = 'Polydipsia', y = 'Irritability', c = clusters, colormap = plt.cm.brg)\n",
    "ax = diabetes_data_binary.plot(kind = 'scatter', x = 'Polydipsia', y = 'partial paresis', c = clusters, colormap = plt.cm.brg)"
   ]
  },
  {
   "cell_type": "code",
   "execution_count": null,
   "metadata": {},
   "outputs": [],
   "source": []
  },
  {
   "cell_type": "code",
   "execution_count": null,
   "metadata": {},
   "outputs": [],
   "source": [
    "#DBSCAN using eps = 1 and min_sample = 20"
   ]
  },
  {
   "cell_type": "code",
   "execution_count": null,
   "metadata": {},
   "outputs": [],
   "source": [
    "clustering = DBSCAN(eps = 1, min_samples = 10, metric = \"euclidean\").fit(X2_total_scaled)\n",
    "clusters = clustering.labels_\n",
    "print(clusters)"
   ]
  },
  {
   "cell_type": "code",
   "execution_count": null,
   "metadata": {},
   "outputs": [],
   "source": [
    "#Plot the contingency matrix and we notice that we have 3 clusters because the min_Sample value is low for eps value\n",
    "cont_matrix = metrics.cluster.contingency_matrix(Y2_total,clusters)\n",
    "sns.heatmap(cont_matrix, annot = True, fmt = \".3f\", square = True, cmap = plt.cm.Blues)\n",
    "plt.ylabel('Actual')\n",
    "plt.xlabel('Predicted')\n",
    "plt.title('Contingency matrix')\n",
    "plt.tight_layout()"
   ]
  },
  {
   "cell_type": "code",
   "execution_count": null,
   "metadata": {},
   "outputs": [],
   "source": [
    "adjusted_rand_index = metrics.adjusted_rand_score(Y2_total, clusters)\n",
    "silhouette_coefficient = metrics.silhouette_score(X2_total_scaled, clusters, metric = \"euclidean\")\n",
    "print([adjusted_rand_index, silhouette_coefficient])"
   ]
  },
  {
   "cell_type": "code",
   "execution_count": null,
   "metadata": {},
   "outputs": [],
   "source": [
    "ax = diabetes_data_binary.plot(kind = 'scatter', x = 'Polydipsia', y = 'Polyuria', c = clusters, colormap = plt.cm.brg)\n",
    "ax = diabetes_data_binary.plot(kind = 'scatter', x = 'Polydipsia', y = \"sudden weight loss\", c = clusters, colormap = plt.cm.brg)\n",
    "ax = diabetes_data_binary.plot(kind = 'scatter', x = 'Polydipsia', y = 'Irritability', c = clusters, colormap = plt.cm.brg)\n",
    "ax = diabetes_data_binary.plot(kind = 'scatter', x = 'Polydipsia', y = 'partial paresis', c = clusters, colormap = plt.cm.brg)"
   ]
  },
  {
   "cell_type": "code",
   "execution_count": null,
   "metadata": {},
   "outputs": [],
   "source": []
  },
  {
   "cell_type": "code",
   "execution_count": null,
   "metadata": {},
   "outputs": [],
   "source": [
    "#DBSCAN using eps = 2 and min_Sample = 15 and we achive 2 clusters"
   ]
  },
  {
   "cell_type": "code",
   "execution_count": null,
   "metadata": {},
   "outputs": [],
   "source": [
    "clustering = DBSCAN(eps = 2, min_samples = 15, metric = \"euclidean\").fit(X2_total_scaled)\n",
    "clusters = clustering.labels_\n",
    "print(clusters)"
   ]
  },
  {
   "cell_type": "code",
   "execution_count": null,
   "metadata": {},
   "outputs": [],
   "source": [
    "cont_matrix = metrics.cluster.contingency_matrix(Y2_total,clusters)\n",
    "sns.heatmap(cont_matrix, annot = True, fmt = \".3f\", square = True, cmap = plt.cm.Blues)\n",
    "plt.ylabel('Actual')\n",
    "plt.xlabel('Predicted')\n",
    "plt.title('Contingency matrix')\n",
    "plt.tight_layout()"
   ]
  },
  {
   "cell_type": "code",
   "execution_count": null,
   "metadata": {},
   "outputs": [],
   "source": [
    "adjusted_rand_index = metrics.adjusted_rand_score(Y2_total, clusters)\n",
    "silhouette_coefficient = metrics.silhouette_score(X2_total_scaled, clusters, metric = \"euclidean\")\n",
    "print([adjusted_rand_index, silhouette_coefficient])"
   ]
  },
  {
   "cell_type": "code",
   "execution_count": null,
   "metadata": {},
   "outputs": [],
   "source": [
    "ax = diabetes_data_binary.plot(kind = 'scatter', x = 'Polydipsia', y = 'Polyuria', c = clusters, colormap = plt.cm.brg)\n",
    "ax = diabetes_data_binary.plot(kind = 'scatter', x = 'Polydipsia', y = \"sudden weight loss\", c = clusters, colormap = plt.cm.brg)\n",
    "ax = diabetes_data_binary.plot(kind = 'scatter', x = 'Polydipsia', y = 'Irritability', c = clusters, colormap = plt.cm.brg)\n",
    "ax = diabetes_data_binary.plot(kind = 'scatter', x = 'Polydipsia', y = 'partial paresis', c = clusters, colormap = plt.cm.brg)"
   ]
  },
  {
   "cell_type": "code",
   "execution_count": null,
   "metadata": {},
   "outputs": [],
   "source": []
  },
  {
   "cell_type": "code",
   "execution_count": null,
   "metadata": {},
   "outputs": [],
   "source": [
    "#Evaluation metrics"
   ]
  },
  {
   "cell_type": "code",
   "execution_count": null,
   "metadata": {},
   "outputs": [],
   "source": [
    "silhouette_coefficient = metrics.silhouette_score(X2_total_scaled, Y2_total, metric = \"euclidean\")\n",
    "print(silhouette_coefficient)"
   ]
  },
  {
   "cell_type": "code",
   "execution_count": null,
   "metadata": {},
   "outputs": [],
   "source": [
    "#Plot true clusters\n",
    "ax = diabetes_data_binary.plot(kind = 'scatter', x = 'Polydipsia', y = 'Polyuria', c = Y2_total, colormap = plt.cm.brg)\n",
    "ax = diabetes_data_binary.plot(kind = 'scatter', x = 'Polydipsia', y = \"sudden weight loss\", c = Y2_total, colormap = plt.cm.brg)\n",
    "ax = diabetes_data_binary.plot(kind = 'scatter', x = 'Polydipsia', y = 'Irritability', c = Y2_total, colormap = plt.cm.brg)\n",
    "ax = diabetes_data_binary.plot(kind = 'scatter', x = 'Polydipsia', y = 'partial paresis', c = Y2_total, colormap = plt.cm.brg)"
   ]
  },
  {
   "cell_type": "code",
   "execution_count": null,
   "metadata": {},
   "outputs": [],
   "source": []
  },
  {
   "cell_type": "code",
   "execution_count": null,
   "metadata": {},
   "outputs": [],
   "source": [
    "#Clustering for Binary Data"
   ]
  },
  {
   "cell_type": "code",
   "execution_count": null,
   "metadata": {},
   "outputs": [],
   "source": [
    "#Choosing the variables that have higher impact on diabetic vs non-diabetic for binary values"
   ]
  },
  {
   "cell_type": "code",
   "execution_count": null,
   "metadata": {},
   "outputs": [],
   "source": [
    "X2 = diabetes_data_binary[[\"Polyuria\", \"Polydipsia\",\"sudden weight loss\",'Irritability','partial paresis']]"
   ]
  },
  {
   "cell_type": "code",
   "execution_count": null,
   "metadata": {},
   "outputs": [],
   "source": [
    "Y2 = diabetes_data_binary[\"class\"]"
   ]
  },
  {
   "cell_type": "code",
   "execution_count": null,
   "metadata": {},
   "outputs": [],
   "source": [
    "scaler = StandardScaler() \n",
    "scaler.fit(X2)\n",
    "X2_scaled = scaler.transform(X2) "
   ]
  },
  {
   "cell_type": "code",
   "execution_count": null,
   "metadata": {},
   "outputs": [],
   "source": [
    "#Hierarchical Clustering with single linkage"
   ]
  },
  {
   "cell_type": "code",
   "execution_count": null,
   "metadata": {},
   "outputs": [],
   "source": [
    "clustering = linkage(X2_scaled,method = 'single',metric = 'euclidean')\n",
    "clusters = fcluster(clustering, 2,criterion = 'maxclust')"
   ]
  },
  {
   "cell_type": "code",
   "execution_count": null,
   "metadata": {},
   "outputs": [],
   "source": [
    "#Plot the contingency matrix\n",
    "cont_matrix = metrics.cluster.contingency_matrix(Y2,clusters)\n",
    "sns.heatmap(cont_matrix, annot = True, fmt = \".3f\", square = True, cmap = plt.cm.Blues)\n",
    "plt.ylabel('Actual')\n",
    "plt.xlabel('Predicted')\n",
    "plt.title('Contingency matrix')\n",
    "plt.tight_layout()"
   ]
  },
  {
   "cell_type": "code",
   "execution_count": null,
   "metadata": {},
   "outputs": [],
   "source": [
    "#Calculate the adjusted rand index and silhouette coeff\n",
    "adjusted_rand_index = metrics.adjusted_rand_score(Y2, clusters)\n",
    "silhouette_coefficient = metrics.silhouette_score(X2_scaled, clusters, metric = \"euclidean\")\n",
    "print([adjusted_rand_index, silhouette_coefficient])"
   ]
  },
  {
   "cell_type": "code",
   "execution_count": null,
   "metadata": {},
   "outputs": [],
   "source": [
    "#Plot the clusters formed by Hierarchical clustering\n",
    "ax = diabetes_data_binary.plot(kind = 'scatter', x = 'Polydipsia', y = 'Polyuria', c = clusters, colormap = plt.cm.brg)\n",
    "ax = diabetes_data_binary.plot(kind = 'scatter', x = 'Polydipsia', y = \"sudden weight loss\", c = clusters, colormap = plt.cm.brg)\n",
    "ax = diabetes_data_binary.plot(kind = 'scatter', x = 'Polydipsia', y = 'Irritability', c = clusters, colormap = plt.cm.brg)\n",
    "ax = diabetes_data_binary.plot(kind = 'scatter', x = 'Polydipsia', y = 'partial paresis', c = clusters, colormap = plt.cm.brg)"
   ]
  },
  {
   "cell_type": "code",
   "execution_count": null,
   "metadata": {},
   "outputs": [],
   "source": []
  },
  {
   "cell_type": "code",
   "execution_count": null,
   "metadata": {},
   "outputs": [],
   "source": [
    "#Hierarchical Clustering with complete linkage"
   ]
  },
  {
   "cell_type": "code",
   "execution_count": null,
   "metadata": {},
   "outputs": [],
   "source": [
    "clustering = linkage(X2_scaled, method = \"complete\", metric = \"euclidean\")\n",
    "clusters = fcluster(clustering, 2, criterion = 'maxclust')"
   ]
  },
  {
   "cell_type": "code",
   "execution_count": null,
   "metadata": {},
   "outputs": [],
   "source": [
    "#Plot teh contingency matrix\n",
    "cont_matrix = metrics.cluster.contingency_matrix(Y2,clusters)\n",
    "sns.heatmap(cont_matrix, annot = True, fmt = \".3f\", square = True, cmap = plt.cm.Blues)\n",
    "plt.ylabel('Actual')\n",
    "plt.xlabel('Predicted')\n",
    "plt.title('Contingency matrix')\n",
    "plt.tight_layout()"
   ]
  },
  {
   "cell_type": "code",
   "execution_count": null,
   "metadata": {},
   "outputs": [],
   "source": [
    "adjusted_rand_index = metrics.adjusted_rand_score(Y2, clusters)\n",
    "silhouette_coefficient = metrics.silhouette_score(X2_scaled, clusters, metric = \"euclidean\")\n",
    "print([adjusted_rand_index, silhouette_coefficient])"
   ]
  },
  {
   "cell_type": "code",
   "execution_count": null,
   "metadata": {},
   "outputs": [],
   "source": [
    "#Plot the clusters formed by Hierarchical clustering\n",
    "ax = diabetes_data_binary.plot(kind = 'scatter', x = 'Polydipsia', y = 'Polyuria', c = clusters, colormap = plt.cm.brg)\n",
    "ax = diabetes_data_binary.plot(kind = 'scatter', x = 'Polydipsia', y = \"sudden weight loss\", c = clusters, colormap = plt.cm.brg)\n",
    "ax = diabetes_data_binary.plot(kind = 'scatter', x = 'Polydipsia', y = 'Irritability', c = clusters, colormap = plt.cm.brg)\n",
    "ax = diabetes_data_binary.plot(kind = 'scatter', x = 'Polydipsia', y = 'partial paresis', c = clusters, colormap = plt.cm.brg)"
   ]
  },
  {
   "cell_type": "code",
   "execution_count": null,
   "metadata": {},
   "outputs": [],
   "source": []
  },
  {
   "cell_type": "code",
   "execution_count": null,
   "metadata": {},
   "outputs": [],
   "source": [
    "#KMeans clustering with random centroids and 1 iteration"
   ]
  },
  {
   "cell_type": "code",
   "execution_count": null,
   "metadata": {},
   "outputs": [],
   "source": [
    "clustering = KMeans(n_clusters = 2, init = 'random', n_init = 1, random_state = 0).fit(X2_scaled)\n",
    "clusters = clustering.labels_"
   ]
  },
  {
   "cell_type": "code",
   "execution_count": null,
   "metadata": {},
   "outputs": [],
   "source": [
    "#Plot the contingency matrix\n",
    "cont_matrix = metrics.cluster.contingency_matrix(Y2,clusters)\n",
    "sns.heatmap(cont_matrix, annot = True, fmt = \".3f\", square = True, cmap = plt.cm.Blues)\n",
    "plt.ylabel('Actual')\n",
    "plt.xlabel('Predicted')\n",
    "plt.title('Contingency matrix')\n",
    "plt.tight_layout()"
   ]
  },
  {
   "cell_type": "code",
   "execution_count": null,
   "metadata": {},
   "outputs": [],
   "source": [
    "adjusted_rand_index = metrics.adjusted_rand_score(Y2, clusters)\n",
    "silhouette_coefficient = metrics.silhouette_score(X2_scaled, clusters, metric = \"euclidean\")\n",
    "print([adjusted_rand_index, silhouette_coefficient])"
   ]
  },
  {
   "cell_type": "code",
   "execution_count": null,
   "metadata": {},
   "outputs": [],
   "source": [
    "#Plot the clusters formed by KMeans clustering\n",
    "ax = diabetes_data_binary.plot(kind = 'scatter', x = 'Polydipsia', y = 'Polyuria', c = clusters, colormap = plt.cm.brg)\n",
    "ax = diabetes_data_binary.plot(kind = 'scatter', x = 'Polydipsia', y = \"sudden weight loss\", c = clusters, colormap = plt.cm.brg)\n",
    "ax = diabetes_data_binary.plot(kind = 'scatter', x = 'Polydipsia', y = 'Irritability', c = clusters, colormap = plt.cm.brg)\n",
    "ax = diabetes_data_binary.plot(kind = 'scatter', x = 'Polydipsia', y = 'partial paresis', c = clusters, colormap = plt.cm.brg)"
   ]
  },
  {
   "cell_type": "code",
   "execution_count": null,
   "metadata": {},
   "outputs": [],
   "source": []
  },
  {
   "cell_type": "code",
   "execution_count": null,
   "metadata": {},
   "outputs": [],
   "source": [
    "#KMeans with 20 iterations and the centroids are chosen iteratively"
   ]
  },
  {
   "cell_type": "code",
   "execution_count": null,
   "metadata": {},
   "outputs": [],
   "source": [
    "clustering = KMeans(n_clusters = 2, init = 'k-means++', n_init = 20,random_state = 0).fit(X2_scaled)\n",
    "clusters = clustering.labels_"
   ]
  },
  {
   "cell_type": "code",
   "execution_count": null,
   "metadata": {},
   "outputs": [],
   "source": [
    "#Plot the contingency matrix\n",
    "cont_matrix = metrics.cluster.contingency_matrix(Y2,clusters)\n",
    "sns.heatmap(cont_matrix, annot = True, fmt = \".3f\", square = True, cmap = plt.cm.Blues)\n",
    "plt.ylabel('Actual')\n",
    "plt.xlabel('Predicted')\n",
    "plt.title('Contingency matrix')\n",
    "plt.tight_layout()"
   ]
  },
  {
   "cell_type": "code",
   "execution_count": null,
   "metadata": {},
   "outputs": [],
   "source": [
    "#Calculate the adjusted rand index and silhouette coeff\n",
    "adjusted_rand_index = metrics.adjusted_rand_score(Y2, clusters)\n",
    "silhouette_coefficient = metrics.silhouette_score(X2_scaled, clusters, metric = \"euclidean\")\n",
    "print([adjusted_rand_index, silhouette_coefficient])"
   ]
  },
  {
   "cell_type": "code",
   "execution_count": null,
   "metadata": {},
   "outputs": [],
   "source": [
    "#Plot the clusters formed by KMeans\n",
    "ax = diabetes_data_binary.plot(kind = 'scatter', x = 'Polydipsia', y = 'Polyuria', c = Y2, colormap = plt.cm.brg)\n",
    "ax = diabetes_data_binary.plot(kind = 'scatter', x = 'Polydipsia', y = \"sudden weight loss\", c = Y2, colormap = plt.cm.brg)\n",
    "ax = diabetes_data_binary.plot(kind = 'scatter', x = 'Polydipsia', y = 'Irritability', c = Y2, colormap = plt.cm.brg)\n",
    "ax = diabetes_data_binary.plot(kind = 'scatter', x = 'Polydipsia', y = 'partial paresis', c = Y2, colormap = plt.cm.brg)"
   ]
  },
  {
   "cell_type": "code",
   "execution_count": null,
   "metadata": {},
   "outputs": [],
   "source": []
  },
  {
   "cell_type": "code",
   "execution_count": null,
   "metadata": {},
   "outputs": [],
   "source": [
    "#DBSCAN for eps = 1 and min_Sample = 30"
   ]
  },
  {
   "cell_type": "code",
   "execution_count": null,
   "metadata": {},
   "outputs": [],
   "source": [
    "clustering = DBSCAN(eps = 1, min_samples = 30, metric = \"euclidean\").fit(X2_scaled)\n",
    "clusters = clustering.labels_\n",
    "print(clusters)"
   ]
  },
  {
   "cell_type": "code",
   "execution_count": null,
   "metadata": {},
   "outputs": [],
   "source": [
    "#Plot the contingency matrix and we see that we have 6 clusters formed for the following eps and min_sample values\n",
    "cont_matrix = metrics.cluster.contingency_matrix(Y2, clusters)\n",
    "sns.heatmap(cont_matrix, annot = True, fmt = \".3f\", square = True, cmap = plt.cm.Blues)\n",
    "plt.ylabel('Actual')\n",
    "plt.xlabel('Predicted')\n",
    "plt.title('Contingency matrix')\n",
    "plt.tight_layout()"
   ]
  },
  {
   "cell_type": "code",
   "execution_count": null,
   "metadata": {},
   "outputs": [],
   "source": [
    "adjusted_rand_index = metrics.adjusted_rand_score(Y2, clusters)\n",
    "silhouette_coefficient = metrics.silhouette_score(X2_scaled, clusters, metric = \"euclidean\")\n",
    "print([adjusted_rand_index, silhouette_coefficient])"
   ]
  },
  {
   "cell_type": "code",
   "execution_count": null,
   "metadata": {},
   "outputs": [],
   "source": [
    "#Plot the clusters formed by DBSCAN\n",
    "ax = diabetes_data_binary.plot(kind = 'scatter', x = 'Polydipsia', y = 'Polyuria', c = clusters, colormap = plt.cm.brg)\n",
    "ax = diabetes_data_binary.plot(kind = 'scatter', x = 'Polydipsia', y = \"sudden weight loss\", c = clusters, colormap = plt.cm.brg)\n",
    "ax = diabetes_data_binary.plot(kind = 'scatter', x = 'Polydipsia', y = 'Irritability', c = clusters, colormap = plt.cm.brg)\n",
    "ax = diabetes_data_binary.plot(kind = 'scatter', x = 'Polydipsia', y = 'partial paresis', c = clusters, colormap = plt.cm.brg)"
   ]
  },
  {
   "cell_type": "code",
   "execution_count": null,
   "metadata": {},
   "outputs": [],
   "source": []
  },
  {
   "cell_type": "code",
   "execution_count": null,
   "metadata": {},
   "outputs": [],
   "source": [
    "# DBSCAN modified to form two clusters"
   ]
  },
  {
   "cell_type": "code",
   "execution_count": null,
   "metadata": {},
   "outputs": [],
   "source": [
    "clustering = DBSCAN(eps = 2, min_samples = 70, metric = \"euclidean\").fit(X2_scaled)\n",
    "clusters = clustering.labels_\n",
    "print(clusters)"
   ]
  },
  {
   "cell_type": "code",
   "execution_count": null,
   "metadata": {},
   "outputs": [],
   "source": [
    "cont_matrix = metrics.cluster.contingency_matrix(Y2, clusters)\n",
    "sns.heatmap(cont_matrix, annot = True, fmt = \".3f\", square = True, cmap = plt.cm.Blues)\n",
    "plt.ylabel('Actual')\n",
    "plt.xlabel('Predicted')\n",
    "plt.title('Contingency matrix')\n",
    "plt.tight_layout()"
   ]
  },
  {
   "cell_type": "code",
   "execution_count": null,
   "metadata": {},
   "outputs": [],
   "source": [
    "adjusted_rand_index = metrics.adjusted_rand_score(Y2, clusters)\n",
    "silhouette_coefficient = metrics.silhouette_score(X2_scaled, clusters, metric = \"euclidean\")\n",
    "print([adjusted_rand_index, silhouette_coefficient])"
   ]
  },
  {
   "cell_type": "code",
   "execution_count": null,
   "metadata": {},
   "outputs": [],
   "source": [
    "#Plot clusters formed by DBSCAN\n",
    "ax = diabetes_data_binary.plot(kind = 'scatter', x = 'Polydipsia', y = 'Polyuria', c = clusters, colormap = plt.cm.brg)\n",
    "ax = diabetes_data_binary.plot(kind = 'scatter', x = 'Polydipsia', y = \"sudden weight loss\", c = clusters, colormap = plt.cm.brg)\n",
    "ax = diabetes_data_binary.plot(kind = 'scatter', x = 'Polydipsia', y = 'Irritability', c = clusters, colormap = plt.cm.brg)\n",
    "ax = diabetes_data_binary.plot(kind = 'scatter', x = 'Polydipsia', y = 'partial paresis', c = Y2, colormap = plt.cm.brg)"
   ]
  },
  {
   "cell_type": "code",
   "execution_count": null,
   "metadata": {},
   "outputs": [],
   "source": []
  },
  {
   "cell_type": "code",
   "execution_count": null,
   "metadata": {},
   "outputs": [],
   "source": [
    "#Evaluation Matrix for true clusters for binary data"
   ]
  },
  {
   "cell_type": "code",
   "execution_count": null,
   "metadata": {},
   "outputs": [],
   "source": [
    "silhouette_coefficient = metrics.silhouette_score(X2_scaled, Y2, metric = \"euclidean\")\n",
    "print(silhouette_coefficient)"
   ]
  },
  {
   "cell_type": "code",
   "execution_count": null,
   "metadata": {},
   "outputs": [],
   "source": [
    "# Plot true clusters\n",
    "ax = diabetes_data_binary.plot(kind = 'scatter', x = 'Polydipsia', y = 'Polyuria', c = Y2, colormap = plt.cm.brg)\n",
    "ax = diabetes_data_binary.plot(kind = 'scatter', x = 'Polydipsia', y = \"sudden weight loss\", c = Y2, colormap = plt.cm.brg)\n",
    "ax = diabetes_data_binary.plot(kind = 'scatter', x = 'Polydipsia', y = 'Irritability', c = Y2, colormap = plt.cm.brg)\n",
    "ax = diabetes_data_binary.plot(kind = 'scatter', x = 'Polydipsia', y = 'partial paresis', c = Y2, colormap = plt.cm.brg)"
   ]
  },
  {
   "cell_type": "code",
   "execution_count": null,
   "metadata": {},
   "outputs": [],
   "source": []
  }
 ],
 "metadata": {
  "kernelspec": {
   "display_name": "Python 3",
   "language": "python",
   "name": "python3"
  },
  "language_info": {
   "codemirror_mode": {
    "name": "ipython",
    "version": 3
   },
   "file_extension": ".py",
   "mimetype": "text/x-python",
   "name": "python",
   "nbconvert_exporter": "python",
   "pygments_lexer": "ipython3",
   "version": "3.8.3"
  }
 },
 "nbformat": 4,
 "nbformat_minor": 4
}
